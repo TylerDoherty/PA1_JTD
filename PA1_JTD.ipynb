{
 "cells": [
  {
   "cell_type": "markdown",
   "id": "9bafc8ee",
   "metadata": {},
   "source": [
    "* James Tyler Doherty\n",
    "* Assignment 1\n",
    "* Version 1\n",
    "* Fall 2023"
   ]
  },
  {
   "cell_type": "markdown",
   "id": "c6fd7488",
   "metadata": {},
   "source": [
    "# James Tyler Doherty\n",
    "### I am a freshman at bellarmine and I love playing soccer and fishing. I am 19 years old and I think coding is very cool and would like to learn more. I am still mostly unsure on my major.\n",
    "* Programming Assignments\n",
    "* Quizzes\n",
    "* Attendance/In-Class completed notebook submission\n",
    "* Mid term exam (2)\n",
    "* Project (2)\n",
    "\n",
    "1. Variable and simple data types\n",
    "2. Introduction Lists, tuples\n",
    "3. if statements\n",
    "4. dictonaries\n",
    "5. loops\n",
    "6. string class\n",
    "7. functions\n",
    "8. classes\n",
    "9. numpy\n",
    "\n",
    "**Python**\n",
    "\n",
    "*Jupiter Notebook from anaconda*\n",
    "\n",
    "\n",
    "` Coding is cool`\n",
    "\n",
    "<a href=\"https://github.com/TylerDoherty\"> My Github Account </a>\n",
    "\n",
    "![Bellarmine Logo](https://www.bellarmine.edu/sf-images/default-source/marketing/bellarmine-maroon-university-752936.png)\n",
    "\n",
    "> I learned many things during this coding assigment. The First thing I learned is how to upload immages. I think that this is all very cool information. Another really cool thing I learned was how to make hyperlinks. Im sure I will use this in the future too. I also didn't know how to highlight, bold, or make headers and all of that other stuff before I did this."
   ]
  },
  {
   "cell_type": "code",
   "execution_count": null,
   "id": "58a14812",
   "metadata": {},
   "outputs": [],
   "source": []
  }
 ],
 "metadata": {
  "kernelspec": {
   "display_name": "Python 3 (ipykernel)",
   "language": "python",
   "name": "python3"
  },
  "language_info": {
   "codemirror_mode": {
    "name": "ipython",
    "version": 3
   },
   "file_extension": ".py",
   "mimetype": "text/x-python",
   "name": "python",
   "nbconvert_exporter": "python",
   "pygments_lexer": "ipython3",
   "version": "3.11.4"
  }
 },
 "nbformat": 4,
 "nbformat_minor": 5
}
